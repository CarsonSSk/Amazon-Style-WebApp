{
 "cells": [
  {
   "cell_type": "markdown",
   "metadata": {
    "hide_input": false
   },
   "source": [
    "# Importing important libraries"
   ]
  },
  {
   "cell_type": "code",
   "execution_count": 1,
   "metadata": {},
   "outputs": [],
   "source": [
    "#importing important libraries\n",
    "from selenium import webdriver\n",
    "from selenium.webdriver.common.by import By\n",
    "from selenium.webdriver.common.keys import Keys\n",
    "from selenium.webdriver.support.ui import WebDriverWait\n",
    "from selenium.webdriver.support import expected_conditions as EC\n",
    "from selenium.common.exceptions import TimeoutException\n",
    "import time\n",
    "\n",
    "# Selenium element finder attributes\n",
    "\n",
    "# ID\n",
    "# Selenium find element by Name\n",
    "# Class Name\n",
    "# Tag Name\n",
    "# Link Text\n",
    "# Partial Link Text\n",
    "# XPATH"
   ]
  },
  {
   "cell_type": "code",
   "execution_count": 2,
   "metadata": {},
   "outputs": [
    {
     "name": "stdout",
     "output_type": "stream",
     "text": [
      "Populating the interactive namespace from numpy and matplotlib\n"
     ]
    }
   ],
   "source": [
    "%pylab inline\n",
    "import matplotlib.pyplot as plt\n",
    "import matplotlib.image as mpimg"
   ]
  },
  {
   "cell_type": "code",
   "execution_count": 3,
   "metadata": {},
   "outputs": [],
   "source": [
    "# Defining the browser\n",
    "browser = webdriver.Chrome()"
   ]
  },
  {
   "cell_type": "markdown",
   "metadata": {},
   "source": [
    "#  Login and Logout"
   ]
  },
  {
   "cell_type": "markdown",
   "metadata": {},
   "source": []
  },
  {
   "cell_type": "code",
   "execution_count": 23,
   "metadata": {},
   "outputs": [],
   "source": [
    "\n",
    "def take_screenshot(name):\n",
    "    \"\"\"Fucntion for taking screenshots\"\"\"\n",
    "    browser.save_screenshot(name+\".png\") # Taking a screenshot\n",
    "    print(\"screenshot saved under \"+name+\".png\")\n",
    "\n",
    "def login(email, password):\n",
    "    \"\"\"\n",
    "    Function that oppens website login page and connects to it\n",
    "    \"\"\"\n",
    "    # openin the login page\n",
    "    browser.get('http://localhost:3000/#/')\n",
    "    browser.find_element(By.XPATH, '//*[@id=\"basic-navbar-nav\"]/div/a[2]/p').click()\n",
    "    \n",
    "    delay = 10 #sec\n",
    "    try:\n",
    "        element_present = EC.presence_of_element_located((By.ID, 'email'))\n",
    "        WebDriverWait(browser, delay).until(element_present)\n",
    "    except TimeoutException:\n",
    "        print(\"Login page not ready\")   \n",
    "        \n",
    "    # entering the email and password\n",
    "    browser.find_element(By.ID, 'email').send_keys(email)\n",
    "    browser.find_element(By.ID, 'password').send_keys(password)\n",
    "    browser.find_element(By.XPATH, '//*[@id=\"root\"]/main/div/div/div/form/button').click() #click sign in button\n",
    "     \n",
    "def logout():\n",
    "    \"\"\"\n",
    "    Function that logs out\n",
    "    \"\"\"\n",
    "#     browser.find_element(By.ID, 'username').click()\n",
    "#     browser.find_element(By.XPATH, '//*[@id=\"basic-navbar-nav\"]/div/div[1]/div/a[5]').click() #click sign out button\n",
    "    \n",
    "    delay = 20 #sec\n",
    "    try:\n",
    "        element = browser.find_element(By.ID, 'username')\n",
    "        element.click()\n",
    "        browser.find_element(By.XPATH, '//*[@id=\"basic-navbar-nav\"]/div/div[1]/div/a[5]').click() #click sign out button\n",
    "    except:\n",
    "        print(\"Unable to logout\")  \n",
    "        \n",
    "def check_connection():\n",
    "    \"\"\"\n",
    "    Check if user is conencted by checking if the envelop icon is present in the home page\n",
    "    \"\"\"\n",
    "    #checking if we are connected\n",
    "    delay = 4 #sec\n",
    "    connected= False\n",
    "#     try:\n",
    "#         element = browser.find_element(By.XPATH, '//*[@id=\"basic-navbar-nav\"]/div/div[2]/a/div/i')\n",
    "#         print(\"User connected\")\n",
    "#     except:\n",
    "#         print(\"User not connected\")    \n",
    "    \n",
    "    try:\n",
    "        #element_present = EC.presence_of_element_located((By.XPATH, '//*[@id=\"basic-navbar-nav\"]/div/div[2]/a/div/i'))\n",
    "        element_present = EC.presence_of_element_located((By.ID,'username'))\n",
    "        WebDriverWait(browser, delay).until(element_present)\n",
    "        print(\"User connected\")\n",
    "        connected = True\n",
    "    except TimeoutException:\n",
    "        print(\"User not connected\")  \n",
    "    return connected\n",
    "  \n",
    "    \n",
    "def test_search(keyword='messi', SearchType='name'):\n",
    "    \"\"\"\n",
    "    Testing the Search functionality with different search types\n",
    "    this is on hold since we did not implement it yet\n",
    "    \"\"\"\n",
    "    search_query = \"http://localhost:3000/#/?keyword=\"+keyword+\"&page=1&SearchType=\"+SearchType"
   ]
  },
  {
   "cell_type": "code",
   "execution_count": 24,
   "metadata": {},
   "outputs": [],
   "source": [
    "keywords = [\"ale\",\"mes\",\"lin\",\"gard\",\"plumb\",\"elec\"]\n",
    "SearchTypes = [\"name\", \"keyword\", \"job\"] #  \"job\" not sure what job does\n",
    "\n",
    "links_to_verify_access = [\"http://localhost:3000/#/forums/4/createtopic/\"]"
   ]
  },
  {
   "cell_type": "code",
   "execution_count": 25,
   "metadata": {},
   "outputs": [],
   "source": [
    "def test_login_logout(email=\"nijaouiwassim1@test.com\", password=\"1234\"):\n",
    "    \"\"\"\n",
    "    This function will test the login and logout of a website\n",
    "    \"\"\"\n",
    "    no_errors = True\n",
    "    logged_in = False\n",
    "    if check_connection():\n",
    "        no_errors = False\n",
    "        logged_in = True\n",
    "        take_screenshot(\"C:/Users/nijao/Github/SOEN341_website/teamj_website/Automated_Tests/logs/login/problem_step1_\"+email+\".USER_already_logged_in\")\n",
    "    \n",
    "    if logged_in == False:\n",
    "        try:\n",
    "            login(email, password)\n",
    "            logged_in = True\n",
    "            time.sleep(1)    # Pause 2 seconds\n",
    "            if check_connection() == False:\n",
    "                no_errors = False\n",
    "                take_screenshot(\"C:/Users/nijao/Github/SOEN341_website/teamj_website/Automated_Tests/logs/login/problem_step2_\"+email+\"._Couldnt_login\")\n",
    "        except:\n",
    "            logged_in = False\n",
    "            take_screenshot(\"C:/Users/nijao/Github/SOEN341_website/teamj_website/Automated_Tests/logs/login/problem_step2_\"+email)\n",
    "\n",
    "\n",
    "\n",
    "        if logged_in:\n",
    "            logout()\n",
    "\n",
    "            if check_connection():\n",
    "                no_errors = False\n",
    "                take_screenshot(\"C:/Users/nijao/Github/SOEN341_website/teamj_website/Automated_Tests/logs/logout/problem_step3_\"+email)\n",
    "        else:\n",
    "            take_screenshot(\"C:/Users/nijao/Github/SOEN341_website/teamj_website/Automated_Tests/logs/other/problem_step3_\"+email)\n",
    "        if no_errors:\n",
    "            print(\"Exit without problems\")\n",
    "        else:\n",
    "            print(\"Problem found! could be with the input email or passowrd\")"
   ]
  },
  {
   "cell_type": "code",
   "execution_count": 26,
   "metadata": {},
   "outputs": [
    {
     "name": "stdout",
     "output_type": "stream",
     "text": [
      "User not connected\n",
      "screenshot saved under C:/Users/nijao/Github/SOEN341_website/teamj_website/Automated_Tests/logs/login/problem_step2_nijaouiwassim1@test.com.png\n",
      "screenshot saved under C:/Users/nijao/Github/SOEN341_website/teamj_website/Automated_Tests/logs/other/problem_step3_nijaouiwassim1@test.com.png\n",
      "Exit without problems\n"
     ]
    }
   ],
   "source": [
    "test_login_logout() # first test"
   ]
  },
  {
   "cell_type": "code",
   "execution_count": null,
   "metadata": {},
   "outputs": [],
   "source": [
    "test_login_logout() # second test"
   ]
  },
  {
   "cell_type": "code",
   "execution_count": 7,
   "metadata": {},
   "outputs": [
    {
     "name": "stdout",
     "output_type": "stream",
     "text": [
      "\n",
      "\n",
      "========== TEST 0 ==========\n",
      "\n",
      "\n",
      "User not connected\n",
      "User connected\n",
      "User not connected\n",
      "Exit without problems\n",
      "\n",
      "\n",
      "========== TEST 1 ==========\n",
      "\n",
      "\n",
      "User not connected\n",
      "User connected\n",
      "User not connected\n",
      "Exit without problems\n",
      "\n",
      "\n",
      "========== TEST 2 ==========\n",
      "\n",
      "\n",
      "User not connected\n",
      "User connected\n",
      "User not connected\n",
      "Exit without problems\n",
      "\n",
      "\n",
      "========== TEST 3 ==========\n",
      "\n",
      "\n",
      "User not connected\n",
      "User not connected\n",
      "screenshot saved under C:/Users/nijao/Github/QA_testing_gotcha/logs/login/problem_step2_doesntexist@test.com.png\n",
      "Unable to logout\n",
      "User not connected\n",
      "Problem found! could be with the input email or passowrd\n",
      "\n",
      "\n",
      "========== TEST 4 ==========\n",
      "\n",
      "\n",
      "User not connected\n",
      "User connected\n",
      "User not connected\n",
      "Exit without problems\n"
     ]
    }
   ],
   "source": [
    "# Multiple tests\n",
    "\n",
    "emails = [\"khalil@test.com\", \"messi@test.com\", \"alex@test.com\", \"doesntexist@test.com\", \"lina@test.com\"]\n",
    "passwords = [\"test\", \"test\", \"test\", \"test\", \"test\"]\n",
    "\n",
    "for i in range(len(emails)):\n",
    "    print(\"\\n\\n\"+(\"=\"*10) + \" TEST \"+str(i)+\" \"+(\"=\"*10)+\"\\n\\n\")\n",
    "    test_login_logout(emails[i], passwords[i]) # rest password test"
   ]
  },
  {
   "cell_type": "code",
   "execution_count": 31,
   "metadata": {},
   "outputs": [
    {
     "data": {
      "image/png": "[encoded data removed]",
      "text/plain": [
       "<Figure size 432x288 with 1 Axes>"
      ]
     },
     "metadata": {
      "needs_background": "light"
     },
     "output_type": "display_data"
    }
   ],
   "source": [
    "img = mpimg.imread('C:/Users/nijao/Gitdata:image/png;base64,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hub/QA_testing_gotcha/logs/login/problem_step2_messi@test.com.png')\n",
    "imgplot = plt.imshow(img)\n",
    "plt.show()"
   ]
  },
  {
   "cell_type": "code",
   "execution_count": null,
   "metadata": {},
   "outputs": [],
   "source": []
  }
 ],
 "metadata": {
  "hide_input": false,
  "kernelspec": {
   "display_name": "Python 3 (ipykernel)",
   "language": "python",
   "name": "python3"
  },
  "language_info": {
   "codemirror_mode": {
    "name": "ipython",
    "version": 3
   },
   "file_extension": ".py",
   "mimetype": "text/x-python",
   "name": "python",
   "nbconvert_exporter": "python",
   "pygments_lexer": "ipython3",
   "version": "3.9.7"
  },
  "toc": {
   "base_numbering": 1,
   "nav_menu": {},
   "number_sections": true,
   "sideBar": true,
   "skip_h1_title": false,
   "title_cell": "Table of Contents",
   "title_sidebar": "Contents",
   "toc_cell": false,
   "toc_position": {},
   "toc_section_display": true,
   "toc_window_display": false
  }
 },
 "nbformat": 4,
 "nbformat_minor": 4
}
